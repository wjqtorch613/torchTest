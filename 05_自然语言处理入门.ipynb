{
 "cells": [
  {
   "cell_type": "markdown",
   "id": "63706819",
   "metadata": {},
   "source": [
    "文本预处理中包含的主要环节：\n",
    "- 文本处理的基本方法\n",
    "    - 分词\n",
    "    - 词性标注\n",
    "    - 命名实体识别\n",
    "- 文本张量表示方法\n",
    "    - one-hot编码\n",
    "    - word2vec\n",
    "    - word embedding\n",
    "- 文本语料的数据分析\n",
    "    - 标签数量分布\n",
    "    - 句子长度分布\n",
    "    - 词频统计与关键词词云\n",
    "- 文本特征处理\n",
    "    - 添加n-gram特征\n",
    "    - 文本长度规范\n",
    "- 数据增量方法\n",
    "    - 回译数据增强法"
   ]
  },
  {
   "cell_type": "code",
   "execution_count": 2,
   "id": "56b7f226",
   "metadata": {},
   "outputs": [],
   "source": [
    "import jieba"
   ]
  },
  {
   "cell_type": "code",
   "execution_count": 3,
   "id": "4881bd4e",
   "metadata": {},
   "outputs": [
    {
     "data": {
      "text/plain": [
       "<generator object Tokenizer.cut at 0x00000282372E9900>"
      ]
     },
     "execution_count": 3,
     "metadata": {},
     "output_type": "execute_result"
    }
   ],
   "source": [
    "# 精确模式分词\n",
    "content = \"工信处女干事每月经过下属科室都要亲口交代23口交换机等技术性器件的安装工作\"\n",
    "jieba.cut(content, cut_all=False)"
   ]
  },
  {
   "cell_type": "code",
   "execution_count": 4,
   "id": "af0043dc",
   "metadata": {
    "scrolled": true
   },
   "outputs": [
    {
     "name": "stderr",
     "output_type": "stream",
     "text": [
      "Building prefix dict from the default dictionary ...\n",
      "Dumping model to file cache C:\\Users\\Administrator\\AppData\\Local\\Temp\\jieba.cache\n",
      "Loading model cost 0.643 seconds.\n",
      "Prefix dict has been built successfully.\n"
     ]
    },
    {
     "data": {
      "text/plain": [
       "['工信处',\n",
       " '女干事',\n",
       " '每月',\n",
       " '经过',\n",
       " '下属',\n",
       " '科室',\n",
       " '都',\n",
       " '要',\n",
       " '亲口',\n",
       " '交代',\n",
       " '23',\n",
       " '口',\n",
       " '交换机',\n",
       " '等',\n",
       " '技术性',\n",
       " '器件',\n",
       " '的',\n",
       " '安装',\n",
       " '工作']"
      ]
     },
     "execution_count": 4,
     "metadata": {},
     "output_type": "execute_result"
    }
   ],
   "source": [
    "jieba.lcut(content, cut_all=False)"
   ]
  },
  {
   "cell_type": "code",
   "execution_count": 5,
   "id": "f4b6d683",
   "metadata": {
    "scrolled": true
   },
   "outputs": [
    {
     "data": {
      "text/plain": [
       "['工信处',\n",
       " '处女',\n",
       " '女干事',\n",
       " '干事',\n",
       " '每月',\n",
       " '月经',\n",
       " '经过',\n",
       " '下属',\n",
       " '科室',\n",
       " '都',\n",
       " '要',\n",
       " '亲口',\n",
       " '口交',\n",
       " '交代',\n",
       " '23',\n",
       " '口交',\n",
       " '交换',\n",
       " '交换机',\n",
       " '换机',\n",
       " '等',\n",
       " '技术',\n",
       " '技术性',\n",
       " '性器',\n",
       " '器件',\n",
       " '的',\n",
       " '安装',\n",
       " '安装工',\n",
       " '装工',\n",
       " '工作']"
      ]
     },
     "execution_count": 5,
     "metadata": {},
     "output_type": "execute_result"
    }
   ],
   "source": [
    "# 全模式分词，不能消除歧义\n",
    "jieba.lcut(content, cut_all=True)"
   ]
  },
  {
   "cell_type": "code",
   "execution_count": 7,
   "id": "bd998bc4",
   "metadata": {
    "scrolled": true
   },
   "outputs": [
    {
     "data": {
      "text/plain": [
       "['工信处',\n",
       " '干事',\n",
       " '女干事',\n",
       " '每月',\n",
       " '经过',\n",
       " '下属',\n",
       " '科室',\n",
       " '都',\n",
       " '要',\n",
       " '亲口',\n",
       " '交代',\n",
       " '23',\n",
       " '口',\n",
       " '交换',\n",
       " '换机',\n",
       " '交换机',\n",
       " '等',\n",
       " '技术',\n",
       " '技术性',\n",
       " '器件',\n",
       " '的',\n",
       " '安装',\n",
       " '工作']"
      ]
     },
     "execution_count": 7,
     "metadata": {},
     "output_type": "execute_result"
    }
   ],
   "source": [
    "# 搜索引擎模式，在精确模式的基础上，对长词再次切分，提高召回率\n",
    "jieba.lcut_for_search(content)"
   ]
  },
  {
   "cell_type": "markdown",
   "id": "ad3cb62e",
   "metadata": {},
   "source": [
    "使用用户自定义词典：\n",
    "- 词典格式：每一行分三部分：词语、词频（可省略）、词性（可省略），用空格隔开"
   ]
  },
  {
   "cell_type": "code",
   "execution_count": 8,
   "id": "1d86ea96",
   "metadata": {},
   "outputs": [],
   "source": [
    "jieba.load_userdict('./userdict.txt')"
   ]
  },
  {
   "cell_type": "code",
   "execution_count": 9,
   "id": "696c3f98",
   "metadata": {},
   "outputs": [
    {
     "data": {
      "text/plain": [
       "['八一双鹿', '更名', '为', '八一', '南昌', '篮球队', '！']"
      ]
     },
     "execution_count": 9,
     "metadata": {},
     "output_type": "execute_result"
    }
   ],
   "source": [
    "jieba.lcut(\"八一双鹿更名为八一南昌篮球队！\")"
   ]
  },
  {
   "cell_type": "code",
   "execution_count": null,
   "id": "8ab6c81b",
   "metadata": {},
   "outputs": [],
   "source": []
  },
  {
   "cell_type": "code",
   "execution_count": null,
   "id": "35c08dea",
   "metadata": {},
   "outputs": [],
   "source": []
  },
  {
   "cell_type": "markdown",
   "id": "c5e82eed",
   "metadata": {},
   "source": [
    "流行中英文分词工具hanlp\n",
    "- pip install hanlp[full]"
   ]
  },
  {
   "cell_type": "code",
   "execution_count": 10,
   "id": "257389f3",
   "metadata": {},
   "outputs": [],
   "source": [
    "import hanlp"
   ]
  },
  {
   "cell_type": "code",
   "execution_count": 29,
   "id": "c59c88dd",
   "metadata": {},
   "outputs": [
    {
     "name": "stderr",
     "output_type": "stream",
     "text": [
      "                                                \r"
     ]
    }
   ],
   "source": [
    "tokenizer = hanlp.load(\"CTB6_CONVSEG\")"
   ]
  },
  {
   "cell_type": "code",
   "execution_count": 14,
   "id": "65e5a196",
   "metadata": {},
   "outputs": [
    {
     "name": "stderr",
     "output_type": "stream",
     "text": [
      "Downloading https://file.hankcs.com/corpus/char_table.zip#CharTable.txt to C:\\Users\\Administrator\\AppData\\Roaming\\hanlp\\thirdparty\\file.hankcs.com\\corpus/char_table.zip\n",
      "100%  17.6 KiB   4.4 KiB/s ETA:  0 s [=============================================================]\n",
      "Decompressing C:\\Users\\Administrator\\AppData\\Roaming\\hanlp\\thirdparty\\file.hankcs.com\\corpus/char_table.zip to C:\\Users\\Administrator\\AppData\\Roaming\\hanlp\\thirdparty\\file.hankcs.com\\corpus\n"
     ]
    },
    {
     "data": {
      "text/plain": [
       "['工信处',\n",
       " '女',\n",
       " '干事',\n",
       " '每',\n",
       " '月',\n",
       " '经过',\n",
       " '下属',\n",
       " '科室',\n",
       " '都',\n",
       " '要',\n",
       " '亲口',\n",
       " '交代',\n",
       " '23',\n",
       " '口',\n",
       " '交换机',\n",
       " '等',\n",
       " '技术性',\n",
       " '器件',\n",
       " '的',\n",
       " '安装',\n",
       " '工作']"
      ]
     },
     "execution_count": 14,
     "metadata": {},
     "output_type": "execute_result"
    }
   ],
   "source": [
    "tokenizer(\"工信处女干事每月经过下属科室都要亲口交代23口交换机等技术性器件的安装工作\")"
   ]
  },
  {
   "cell_type": "code",
   "execution_count": 34,
   "id": "c2ca95a2",
   "metadata": {},
   "outputs": [
    {
     "ename": "AttributeError",
     "evalue": "module 'hanlp.utils.rules' has no attribute 'tokenize_english'",
     "output_type": "error",
     "traceback": [
      "\u001b[1;31m---------------------------------------------------------------------------\u001b[0m",
      "\u001b[1;31mAttributeError\u001b[0m                            Traceback (most recent call last)",
      "\u001b[1;32m~\\AppData\\Local\\Temp/ipykernel_18400/1978096699.py\u001b[0m in \u001b[0;36m<module>\u001b[1;34m\u001b[0m\n\u001b[1;32m----> 1\u001b[1;33m \u001b[0mtokenizer\u001b[0m \u001b[1;33m=\u001b[0m \u001b[0mhanlp\u001b[0m\u001b[1;33m.\u001b[0m\u001b[0mutils\u001b[0m\u001b[1;33m.\u001b[0m\u001b[0mrules\u001b[0m\u001b[1;33m.\u001b[0m\u001b[0mtokenize_english\u001b[0m\u001b[1;33m\u001b[0m\u001b[1;33m\u001b[0m\u001b[0m\n\u001b[0m\u001b[0;32m      2\u001b[0m \u001b[0mtokenizer\u001b[0m\u001b[1;33m(\u001b[0m\u001b[1;34m\"Mr. Hankcs bouthgt hankcs.com for 1.5 thousand dollars.\"\u001b[0m\u001b[1;33m)\u001b[0m\u001b[1;33m\u001b[0m\u001b[1;33m\u001b[0m\u001b[0m\n",
      "\u001b[1;31mAttributeError\u001b[0m: module 'hanlp.utils.rules' has no attribute 'tokenize_english'"
     ]
    }
   ],
   "source": [
    "tokenizer = hanlp.utils.rules.tokenize_english\n",
    "tokenizer(\"Mr. Hankcs bouthgt hankcs.com for 1.5 thousand dollars.\")"
   ]
  },
  {
   "cell_type": "code",
   "execution_count": 27,
   "id": "958039c0",
   "metadata": {
    "scrolled": true
   },
   "outputs": [
    {
     "name": "stdout",
     "output_type": "stream",
     "text": [
      "SIGHAN2005_PKU_CONVSEG\n",
      "SIGHAN2005_MSR_CONVSEG\n",
      "CTB6_CONVSEG\n",
      "PKU_NAME_MERGED_SIX_MONTHS_CONVSEG\n",
      "LARGE_ALBERT_BASE\n",
      "SIGHAN2005_PKU_BERT_BASE_ZH\n",
      "COARSE_ELECTRA_SMALL_ZH\n",
      "CTB5_BIAFFINE_DEP_ZH\n",
      "CTB7_BIAFFINE_DEP_ZH\n",
      "PTB_BIAFFINE_DEP_EN\n",
      "SEMEVAL16_NEWS_BIAFFINE_ZH\n",
      "SEMEVAL16_TEXT_BIAFFINE_ZH\n",
      "SEMEVAL15_PAS_BIAFFINE_EN\n",
      "SEMEVAL15_PSD_BIAFFINE_EN\n",
      "SEMEVAL15_DM_BIAFFINE_EN\n",
      "GLOVE_6B_50D\n",
      "GLOVE_6B_100D\n",
      "GLOVE_6B_200D\n",
      "GLOVE_6B_300D\n",
      "GLOVE_840B_300D\n",
      "CTB5_POS_RNN\n",
      "CTB5_POS_RNN_FASTTEXT_ZH\n",
      "CTB9_POS_ALBERT_BASE\n",
      "CTB9_POS_ELECTRA_SMALL_TF\n",
      "CTB9_POS_ELECTRA_SMALL\n",
      "C863_POS_ELECTRA_SMALL\n",
      "PKU98_POS_ELECTRA_SMALL\n",
      "PTB_POS_RNN_FASTTEXT_EN\n",
      "FLAIR_LM_FW_WMT11_EN_TF\n",
      "FLAIR_LM_BW_WMT11_EN_TF\n",
      "FLAIR_LM_WMT11_EN\n",
      "CONVSEG_W2V_NEWS_TENSITE\n",
      "CONVSEG_W2V_NEWS_TENSITE_WORD_PKU\n",
      "CONVSEG_W2V_NEWS_TENSITE_WORD_MSR\n",
      "CONVSEG_W2V_NEWS_TENSITE_CHAR\n",
      "SEMEVAL16_EMBEDDINGS_CN\n",
      "SEMEVAL16_EMBEDDINGS_300_NEWS_CN\n",
      "SEMEVAL16_EMBEDDINGS_300_TEXT_CN\n",
      "CTB5_FASTTEXT_300_CN\n",
      "TENCENT_AILAB_EMBEDDING_SMALL_200\n",
      "TENCENT_AILAB_EMBEDDING_LARGE_200\n",
      "TENCENT_AILAB_EMBEDDING_SMALL_100\n",
      "TENCENT_AILAB_EMBEDDING_LARGE_100\n",
      "MERGE_SGNS_BIGRAM_CHAR_300_ZH\n",
      "RADICAL_CHAR_EMBEDDING_100\n",
      "SUBWORD_ENCODING_CWS_ZH_WIKI_BPE_50\n",
      "SUBWORD_ENCODING_CWS_GIGAWORD_UNI\n",
      "SUBWORD_ENCODING_CWS_GIGAWORD_BI\n",
      "SUBWORD_ENCODING_CWS_CTB_GAZETTEER_50\n",
      "MSRA_NER_BERT_BASE_ZH\n",
      "MSRA_NER_ALBERT_BASE_ZH\n",
      "MSRA_NER_ELECTRA_SMALL_ZH\n",
      "CONLL03_NER_BERT_BASE_CASED_EN\n",
      "CHNSENTICORP_BERT_BASE_ZH\n",
      "SST2_ALBERT_BASE_EN\n",
      "FASTTEXT_DEBUG_EMBEDDING_EN\n",
      "FASTTEXT_CC_300_EN\n",
      "FASTTEXT_WIKI_NYT_AMAZON_FRIENDS_200_EN\n",
      "FASTTEXT_WIKI_300_ZH\n",
      "FASTTEXT_WIKI_300_ZH_CLASSICAL\n",
      "OPEN_TOK_POS_NER_SRL_DEP_SDP_CON_ELECTRA_SMALL_ZH\n",
      "OPEN_TOK_POS_NER_SRL_DEP_SDP_CON_ELECTRA_BASE_ZH\n",
      "CLOSE_TOK_POS_NER_SRL_DEP_SDP_CON_ELECTRA_SMALL_ZH\n",
      "CLOSE_TOK_POS_NER_SRL_DEP_SDP_CON_ELECTRA_BASE_ZH\n",
      "CLOSE_TOK_POS_NER_SRL_DEP_SDP_CON_ERNIE_GRAM_ZH\n",
      "UD_ONTONOTES_TOK_POS_LEM_FEA_NER_SRL_DEP_SDP_CON_MT5_SMALL\n",
      "UD_ONTONOTES_TOK_POS_LEM_FEA_NER_SRL_DEP_SDP_CON_XLMR_BASE\n",
      "NPCMJ_UD_KYOTO_TOK_POS_CON_BERT_BASE_CHAR_JA\n",
      "UD_CTB_EOS_MUL\n",
      "STS_ELECTRA_BASE_ZH\n",
      "CTB9_ELECTRA_SMALL\n",
      "CTB9_FULL_TAG_ELECTRA_SMALL\n",
      "AMR3_SEQ2SEQ_BART_LARGE\n"
     ]
    }
   ],
   "source": [
    "for elem in hanlp.pretrained.ALL.keys():\n",
    "    print(elem)"
   ]
  },
  {
   "cell_type": "code",
   "execution_count": null,
   "id": "c395db3b",
   "metadata": {},
   "outputs": [],
   "source": []
  },
  {
   "cell_type": "markdown",
   "id": "224ada7a",
   "metadata": {},
   "source": [
    "命名实体：人名、地名、机构名等专有名词。\n",
    "命名实体识别（Named Entity Recognition，NER）：识别出一段文本中可能存在的命名实体。"
   ]
  },
  {
   "cell_type": "code",
   "execution_count": 35,
   "id": "e27e1ad4",
   "metadata": {},
   "outputs": [
    {
     "name": "stderr",
     "output_type": "stream",
     "text": [
      "Downloading https://file.hankcs.com/hanlp/ner/ner_bert_base_msra_20211227_114712.zip to C:\\Users\\Administrator\\AppData\\Roaming\\hanlp\\ner/ner_bert_base_msra_20211227_114712.zip\n",
      "100% 362.0 MiB  83.9 KiB/s ETA:  0 s [=============================================================]\n",
      "Decompressing C:\\Users\\Administrator\\AppData\\Roaming\\hanlp\\ner/ner_bert_base_msra_20211227_114712.zip to C:\\Users\\Administrator\\AppData\\Roaming\\hanlp\\ner\n"
     ]
    },
    {
     "data": {
      "application/vnd.jupyter.widget-view+json": {
       "model_id": "34f8830df35b4460b84c0e653a906669",
       "version_major": 2,
       "version_minor": 0
      },
      "text/plain": [
       "Downloading:   0%|          | 0.00/29.0 [00:00<?, ?B/s]"
      ]
     },
     "metadata": {},
     "output_type": "display_data"
    },
    {
     "data": {
      "application/vnd.jupyter.widget-view+json": {
       "model_id": "b457d144c8e54ab78f74625586b3d366",
       "version_major": 2,
       "version_minor": 0
      },
      "text/plain": [
       "Downloading:   0%|          | 0.00/624 [00:00<?, ?B/s]"
      ]
     },
     "metadata": {},
     "output_type": "display_data"
    },
    {
     "data": {
      "application/vnd.jupyter.widget-view+json": {
       "model_id": "3db37b3e0d0b4ea2a6eb87377b6c8a52",
       "version_major": 2,
       "version_minor": 0
      },
      "text/plain": [
       "Downloading:   0%|          | 0.00/107k [00:00<?, ?B/s]"
      ]
     },
     "metadata": {},
     "output_type": "display_data"
    },
    {
     "data": {
      "application/vnd.jupyter.widget-view+json": {
       "model_id": "ceec37c38c27428f91ea80a31e26cb51",
       "version_major": 2,
       "version_minor": 0
      },
      "text/plain": [
       "Downloading:   0%|          | 0.00/263k [00:00<?, ?B/s]"
      ]
     },
     "metadata": {},
     "output_type": "display_data"
    },
    {
     "data": {
      "application/vnd.jupyter.widget-view+json": {
       "model_id": "6802eb12d1cb470a8d8cdb486c846f95",
       "version_major": 2,
       "version_minor": 0
      },
      "text/plain": [
       "Downloading:   0%|          | 0.00/456M [00:00<?, ?B/s]"
      ]
     },
     "metadata": {},
     "output_type": "display_data"
    }
   ],
   "source": [
    "# 加载中文命名实体识别的预训练模型\n",
    "recognizer = hanlp.load(hanlp.pretrained.ner.MSRA_NER_BERT_BASE_ZH)"
   ]
  },
  {
   "cell_type": "code",
   "execution_count": 36,
   "id": "c62fb390",
   "metadata": {
    "scrolled": true
   },
   "outputs": [
    {
     "data": {
      "text/plain": [
       "['上',\n",
       " '海',\n",
       " '华',\n",
       " '安',\n",
       " '工',\n",
       " '业',\n",
       " '（',\n",
       " '集',\n",
       " '团',\n",
       " '）',\n",
       " '公',\n",
       " '司',\n",
       " '董',\n",
       " '事',\n",
       " '长',\n",
       " '谭',\n",
       " '旭',\n",
       " '光',\n",
       " '和',\n",
       " '秘',\n",
       " '书',\n",
       " '张',\n",
       " '婉',\n",
       " '霞',\n",
       " '来',\n",
       " '到',\n",
       " '美',\n",
       " ' ',\n",
       " '国',\n",
       " '纽',\n",
       " '约',\n",
       " '现',\n",
       " '代',\n",
       " '艺',\n",
       " '术',\n",
       " '博',\n",
       " '物',\n",
       " '馆',\n",
       " '参',\n",
       " '观']"
      ]
     },
     "execution_count": 36,
     "metadata": {},
     "output_type": "execute_result"
    }
   ],
   "source": [
    "list('上海华安工业（集团）公司董事长谭旭光和秘书张婉霞来到美 国纽约现代艺术博物馆参观')"
   ]
  },
  {
   "cell_type": "code",
   "execution_count": 37,
   "id": "f47d2cb1",
   "metadata": {},
   "outputs": [
    {
     "data": {
      "text/plain": [
       "[('上海华安工业（集团）公司', 'NT', 0, 12),\n",
       " ('谭旭光', 'NR', 15, 18),\n",
       " ('张婉霞', 'NR', 21, 24),\n",
       " ('美 国', 'NS', 26, 29),\n",
       " ('纽约现代艺术博物馆', 'NS', 29, 38)]"
      ]
     },
     "execution_count": 37,
     "metadata": {},
     "output_type": "execute_result"
    }
   ],
   "source": [
    "recognizer(list('上海华安工业（集团）公司董事长谭旭光和秘书张婉霞来到美 国纽约现代艺术博物馆参观'))"
   ]
  },
  {
   "cell_type": "code",
   "execution_count": null,
   "id": "0a061209",
   "metadata": {},
   "outputs": [],
   "source": []
  },
  {
   "cell_type": "code",
   "execution_count": null,
   "id": "6823287e",
   "metadata": {},
   "outputs": [],
   "source": []
  },
  {
   "cell_type": "code",
   "execution_count": null,
   "id": "89437bd6",
   "metadata": {},
   "outputs": [],
   "source": [
    "# 英文命名实体识别\n",
    "recognizer = hanlp.load(hanlp.pretrained.ner.CONLL03_NER_BERT_BASE_CASED_EN)\n",
    "# 输入是对句子进行分词之后的结果\n",
    "recognizer(['President', 'Obama', 'is', 'speaking', 'at', 'the', 'White', 'House'])"
   ]
  },
  {
   "cell_type": "code",
   "execution_count": null,
   "id": "8eb815aa",
   "metadata": {},
   "outputs": [],
   "source": []
  },
  {
   "cell_type": "code",
   "execution_count": null,
   "id": "61316d06",
   "metadata": {},
   "outputs": [],
   "source": []
  },
  {
   "cell_type": "markdown",
   "id": "a7a17798",
   "metadata": {},
   "source": [
    "词性标注（Part of Speech Tagging，POS）\n",
    "- 词性标注以分词为基础。"
   ]
  },
  {
   "cell_type": "code",
   "execution_count": 1,
   "id": "c9ce4a72",
   "metadata": {},
   "outputs": [],
   "source": [
    "import jieba.posseg as pseg"
   ]
  },
  {
   "cell_type": "code",
   "execution_count": 2,
   "id": "90827649",
   "metadata": {},
   "outputs": [
    {
     "name": "stderr",
     "output_type": "stream",
     "text": [
      "Building prefix dict from the default dictionary ...\n",
      "Loading model from cache C:\\Users\\Administrator\\AppData\\Local\\Temp\\jieba.cache\n",
      "Loading model cost 0.471 seconds.\n",
      "Prefix dict has been built successfully.\n"
     ]
    },
    {
     "data": {
      "text/plain": [
       "[pair('我', 'r'), pair('爱', 'v'), pair('北京', 'ns'), pair('天安门', 'ns')]"
      ]
     },
     "execution_count": 2,
     "metadata": {},
     "output_type": "execute_result"
    }
   ],
   "source": [
    "pseg.lcut('我爱北京天安门')"
   ]
  },
  {
   "cell_type": "code",
   "execution_count": null,
   "id": "9b678da7",
   "metadata": {},
   "outputs": [],
   "source": [
    "import hanlp\n",
    "\n",
    "tagger = hanlp.load(hanlp.pretrained.pos.CTB5_POS_RNN_FASTTEXT_ZH)\n",
    "tagger(['我', '的', '希望', '是', '希望', '和平'])"
   ]
  },
  {
   "cell_type": "code",
   "execution_count": null,
   "id": "99797dc3",
   "metadata": {},
   "outputs": [],
   "source": [
    "tagger = hanlp.load(hanlp.pretrained.pos.PTB_POS_RNN_FASTTEXT_EN)\n",
    "tagger(['I', 'banked', '2', 'dollars', 'in', 'a', 'bank', '.'])"
   ]
  },
  {
   "cell_type": "code",
   "execution_count": null,
   "id": "3c43e5f7",
   "metadata": {},
   "outputs": [],
   "source": []
  },
  {
   "cell_type": "code",
   "execution_count": null,
   "id": "c80c1e94",
   "metadata": {},
   "outputs": [],
   "source": []
  },
  {
   "cell_type": "code",
   "execution_count": null,
   "id": "1fee127b",
   "metadata": {},
   "outputs": [],
   "source": []
  },
  {
   "cell_type": "code",
   "execution_count": null,
   "id": "b70831d0",
   "metadata": {},
   "outputs": [],
   "source": []
  }
 ],
 "metadata": {
  "kernelspec": {
   "display_name": "Python 3 (ipykernel)",
   "language": "python",
   "name": "python3"
  },
  "language_info": {
   "codemirror_mode": {
    "name": "ipython",
    "version": 3
   },
   "file_extension": ".py",
   "mimetype": "text/x-python",
   "name": "python",
   "nbconvert_exporter": "python",
   "pygments_lexer": "ipython3",
   "version": "3.8.12"
  }
 },
 "nbformat": 4,
 "nbformat_minor": 5
}
