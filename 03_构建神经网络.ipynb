{
 "cells": [
  {
   "cell_type": "markdown",
   "id": "2d28d640",
   "metadata": {},
   "source": [
    "构建神经网络的典型流程：\n",
    "- 定义一个拥有可学习参数的神经网络\n",
    "- 遍历训练数据集\n",
    "- 处理输入数据使其流经神经网络\n",
    "- 计算损失值\n",
    "- 将网络参数的梯度进行反向传播\n",
    "- 以一定的规则更新网络的权重"
   ]
  },
  {
   "cell_type": "code",
   "execution_count": 1,
   "id": "c2dae972",
   "metadata": {},
   "outputs": [],
   "source": [
    "import torch\n",
    "import torch.nn as nn\n",
    "import torch.nn.functional as F"
   ]
  },
  {
   "cell_type": "code",
   "execution_count": 4,
   "id": "b953c421",
   "metadata": {},
   "outputs": [],
   "source": [
    "class Net(nn.Module):\n",
    "    def __init__(self):\n",
    "        super(Net, self).__init__()\n",
    "        # 输入通道维度为1，输出通道维度为6，卷积核大小3*3\n",
    "        self.conv1 = nn.Conv2d(1, 6, 3)\n",
    "        self.conv2 = nn.Conv2d(6, 16, 3)\n",
    "        self.fc1 = nn.Linear(16 * 6 * 6, 120)\n",
    "        self.fc2 = nn.Linear(120, 84)\n",
    "        self.fc3 = nn.Linear(84, 10)\n",
    "        \n",
    "    def forward(self, x):\n",
    "        # 任意卷积层后面要加激活层、池化层\n",
    "        x = F.max_pool2d(F.relu(self.conv1(x)), (2, 2))\n",
    "        x = F.max_pool2d(F.relu(self.conv2(x)), 2)\n",
    "        # 进入全连接层，需调整张量的形状\n",
    "        x = x.view(-1, self.num_flat_features(x))\n",
    "        x = F.relu(self.fc1(x))\n",
    "        x = F.relu(self.fc2(x))\n",
    "        x = self.fc3(x)\n",
    "        return x\n",
    "    \n",
    "    def num_flat_features(self, x):\n",
    "        # 计算size，除了第0个维度上的batch_size\n",
    "        size = x.size()[1:]\n",
    "        num_features = 1\n",
    "        for s in size:\n",
    "            num_features *= s \n",
    "        return num_features"
   ]
  },
  {
   "cell_type": "code",
   "execution_count": 5,
   "id": "05e77b09",
   "metadata": {},
   "outputs": [
    {
     "name": "stdout",
     "output_type": "stream",
     "text": [
      "Net(\n",
      "  (conv1): Conv2d(1, 6, kernel_size=(3, 3), stride=(1, 1))\n",
      "  (conv2): Conv2d(6, 16, kernel_size=(3, 3), stride=(1, 1))\n",
      "  (fc1): Linear(in_features=576, out_features=120, bias=True)\n",
      "  (fc2): Linear(in_features=120, out_features=84, bias=True)\n",
      "  (fc3): Linear(in_features=84, out_features=10, bias=True)\n",
      ")\n"
     ]
    }
   ],
   "source": [
    "net = Net()\n",
    "print(net)"
   ]
  },
  {
   "cell_type": "code",
   "execution_count": 12,
   "id": "d4455d4e",
   "metadata": {
    "scrolled": true
   },
   "outputs": [
    {
     "data": {
      "text/plain": [
       "(10, torch.Size([6, 1, 3, 3]))"
      ]
     },
     "execution_count": 12,
     "metadata": {},
     "output_type": "execute_result"
    }
   ],
   "source": [
    "# 获得可训练参数\n",
    "params = list(net.parameters())\n",
    "len(params), params[0].size()"
   ]
  },
  {
   "cell_type": "code",
   "execution_count": 28,
   "id": "1351fe53",
   "metadata": {},
   "outputs": [
    {
     "data": {
      "text/plain": [
       "tensor([[ 0.0725, -0.1456, -0.0095, -0.0596, -0.0269,  0.1553,  0.0668, -0.1343,\n",
       "         -0.0889,  0.0337],\n",
       "        [ 0.0335, -0.0860,  0.0251, -0.1038, -0.0483,  0.1644,  0.0582, -0.0799,\n",
       "         -0.1131,  0.0342]], grad_fn=<AddmmBackward0>)"
      ]
     },
     "execution_count": 28,
     "metadata": {},
     "output_type": "execute_result"
    }
   ],
   "source": [
    "input = torch.randn(2, 1, 32, 32)\n",
    "out = net(input)\n",
    "out"
   ]
  },
  {
   "cell_type": "code",
   "execution_count": 29,
   "id": "ee55c033",
   "metadata": {},
   "outputs": [],
   "source": [
    "# 梯度归零，并反向传播,否则梯度会在不同的批次之间被累加\n",
    "net.zero_grad()\n",
    "out.backward(torch.randn(2, 10))"
   ]
  },
  {
   "cell_type": "markdown",
   "id": "33079a51",
   "metadata": {},
   "source": [
    "nn.Conv2d需要一个4D Tensor，形状为(nSamples, nChannels, Height, Width)。如果输入只有单一样本形式，则需要执行input.unsqueeze(0)，主动将3D Tensor扩充成4D Tensor。\n",
    "\n",
    "#### 损失函数\n",
    "- 损失函数的输入是一个输入的pair：（output, target），然后计算出一个数值来评估output和target之间的差距\n",
    "- nn.MSELoss：计算均方误差损失"
   ]
  },
  {
   "cell_type": "code",
   "execution_count": 38,
   "id": "0eca961e",
   "metadata": {},
   "outputs": [
    {
     "data": {
      "text/plain": [
       "tensor(1.1806, grad_fn=<MseLossBackward0>)"
      ]
     },
     "execution_count": 38,
     "metadata": {},
     "output_type": "execute_result"
    }
   ],
   "source": [
    "# output和target形状必须匹配\n",
    "output = net(input)\n",
    "target = torch.randn(2, 10)\n",
    "\n",
    "criterion = nn.MSELoss()\n",
    "\n",
    "loss = criterion(output, target)\n",
    "loss"
   ]
  },
  {
   "cell_type": "code",
   "execution_count": 39,
   "id": "71fcf7e5",
   "metadata": {},
   "outputs": [
    {
     "name": "stdout",
     "output_type": "stream",
     "text": [
      "<MseLossBackward0 object at 0x0000027A6892BB50>\n",
      "<AddmmBackward0 object at 0x0000027A6892B970>\n"
     ]
    }
   ],
   "source": [
    "print(loss.grad_fn)\n",
    "print(loss.grad_fn.next_functions[0][0])"
   ]
  },
  {
   "cell_type": "code",
   "execution_count": null,
   "id": "35887fc1",
   "metadata": {},
   "outputs": [],
   "source": []
  },
  {
   "cell_type": "code",
   "execution_count": 40,
   "id": "374f339d",
   "metadata": {},
   "outputs": [
    {
     "name": "stdout",
     "output_type": "stream",
     "text": [
      "tensor([0., 0., 0., 0., 0., 0.])\n",
      "tensor([-0.0070, -0.0017,  0.0055,  0.0171, -0.0003, -0.0050])\n"
     ]
    }
   ],
   "source": [
    "net.zero_grad()\n",
    "print(net.conv1.bias.grad)\n",
    "\n",
    "# 执行反向传播\n",
    "loss.backward()\n",
    "print(net.conv1.bias.grad)"
   ]
  },
  {
   "cell_type": "code",
   "execution_count": null,
   "id": "9927c0b4",
   "metadata": {},
   "outputs": [],
   "source": []
  },
  {
   "cell_type": "markdown",
   "id": "95e4f75c",
   "metadata": {},
   "source": [
    "#### SGD\n",
    "- 随机梯度下降：weight = weight - learning_rate * gradient"
   ]
  },
  {
   "cell_type": "code",
   "execution_count": 41,
   "id": "6f3228ef",
   "metadata": {},
   "outputs": [],
   "source": [
    "# 传统python代码实现SGD\n",
    "learning_rate = 0.01\n",
    "for f in net.parameters():\n",
    "    f.data.sub_(f.grad.data * learning_rate)"
   ]
  },
  {
   "cell_type": "code",
   "execution_count": 42,
   "id": "a5bca852",
   "metadata": {},
   "outputs": [],
   "source": [
    "import torch.optim as optim"
   ]
  },
  {
   "cell_type": "code",
   "execution_count": 43,
   "id": "c52cfd44",
   "metadata": {},
   "outputs": [],
   "source": [
    "optimizer = optim.SGD(net.parameters(), lr=0.01)\n",
    "\n",
    "optimizer.zero_grad()\n",
    "\n",
    "output = net(input)\n",
    "loss = criterion(output, target)\n",
    "\n",
    "loss.backward()\n",
    "# 参数的更新\n",
    "optimizer.step()"
   ]
  },
  {
   "cell_type": "code",
   "execution_count": null,
   "id": "64878f33",
   "metadata": {},
   "outputs": [],
   "source": []
  },
  {
   "cell_type": "code",
   "execution_count": null,
   "id": "e6b88bca",
   "metadata": {},
   "outputs": [],
   "source": []
  },
  {
   "cell_type": "code",
   "execution_count": null,
   "id": "32846370",
   "metadata": {},
   "outputs": [],
   "source": []
  },
  {
   "cell_type": "code",
   "execution_count": null,
   "id": "bccb8109",
   "metadata": {},
   "outputs": [],
   "source": []
  },
  {
   "cell_type": "markdown",
   "id": "f209cb97",
   "metadata": {},
   "source": [
    "$$L_{out}=floor((L_{in}+2padding-dilation*(kernerl_{size}-1)-1)/stride+1)$$"
   ]
  },
  {
   "cell_type": "code",
   "execution_count": 19,
   "id": "804c7f5e",
   "metadata": {},
   "outputs": [
    {
     "data": {
      "text/plain": [
       "30.0"
      ]
     },
     "execution_count": 19,
     "metadata": {},
     "output_type": "execute_result"
    }
   ],
   "source": [
    "(32 + 2 * 0 - 1 * (3- 1) - 1) / 1 + 1"
   ]
  },
  {
   "cell_type": "markdown",
   "id": "6b7d6227",
   "metadata": {},
   "source": [
    "$$H_{out}=floor((H_{in} + 2padding[1] - dilation[1]*(kernel_{size}[0] - 1) - 1)/stride[1] + 1)$$"
   ]
  },
  {
   "cell_type": "code",
   "execution_count": 22,
   "id": "17f03ba9",
   "metadata": {},
   "outputs": [
    {
     "data": {
      "text/plain": [
       "14.5"
      ]
     },
     "execution_count": 22,
     "metadata": {},
     "output_type": "execute_result"
    }
   ],
   "source": [
    "(30 + 2 * 0 - 1 * (3 - 1) - 1) / 2 + 1"
   ]
  },
  {
   "cell_type": "code",
   "execution_count": 24,
   "id": "eb4cf911",
   "metadata": {},
   "outputs": [
    {
     "data": {
      "text/plain": [
       "12.0"
      ]
     },
     "execution_count": 24,
     "metadata": {},
     "output_type": "execute_result"
    }
   ],
   "source": [
    "(14 + 2 * 0 - 1 * (3- 1) - 1) / 1 + 1"
   ]
  },
  {
   "cell_type": "code",
   "execution_count": 23,
   "id": "d5ae45a7",
   "metadata": {},
   "outputs": [
    {
     "data": {
      "text/plain": [
       "5.5"
      ]
     },
     "execution_count": 23,
     "metadata": {},
     "output_type": "execute_result"
    }
   ],
   "source": [
    "(12 + 2 * 0 - 1 * (3 - 1) - 1) / 2 + 1"
   ]
  },
  {
   "cell_type": "code",
   "execution_count": null,
   "id": "4b1b1ac2",
   "metadata": {},
   "outputs": [],
   "source": []
  }
 ],
 "metadata": {
  "kernelspec": {
   "display_name": "Python 3 (ipykernel)",
   "language": "python",
   "name": "python3"
  },
  "language_info": {
   "codemirror_mode": {
    "name": "ipython",
    "version": 3
   },
   "file_extension": ".py",
   "mimetype": "text/x-python",
   "name": "python",
   "nbconvert_exporter": "python",
   "pygments_lexer": "ipython3",
   "version": "3.8.12"
  }
 },
 "nbformat": 4,
 "nbformat_minor": 5
}
