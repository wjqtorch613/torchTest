{
 "cells": [
  {
   "cell_type": "markdown",
   "id": "98062679",
   "metadata": {},
   "source": [
    "文本特征处理的作用：\n",
    "- 为语料添加具有普适性的文本特征，如n-gram特征，以及对加入特征之后的文本语料进行必要的处理，如长度规范。其能够有效的将重要的文本特征加入模型训练中，增强模型评估指标。\n",
    "\n",
    "常见的文本特征处理方法：\n",
    "- 添加n-gram特征\n",
    "- 文本长度规范\n",
    "\n",
    "\n",
    "n-gram特征：\n",
    "- 给定一段文本序列，其中$n$个词或字的相邻共现特征即n-gram特征，常用的为bi-gram和tri-gram。"
   ]
  },
  {
   "cell_type": "markdown",
   "id": "140c7127",
   "metadata": {},
   "source": [
    "给定分词列表：[\"是谁\", \"敲动\", \"我心\"],对应的数值映射为：[1, 34, 21]\n",
    "\n",
    "\"是谁\"和\"敲动\"两个词共同出现且相邻也作为一种特征加入到序列列表中，用1000表示。\n",
    "\n",
    "\"敲动\"和\"我心\"两个词共同出现且相邻也作为一种特征加入到序列列表中，用1001表示。\n",
    "\n",
    "最后，原始列表添加bi-gram特征之后变为：[1, 34, 21, 1000, 1001]"
   ]
  },
  {
   "cell_type": "code",
   "execution_count": 4,
   "id": "5e948e5c",
   "metadata": {},
   "outputs": [],
   "source": [
    "ngram_range = 2\n",
    "\n",
    "def create_ngram_set(input_list):\n",
    "    return set(zip(*[input_list[i:] for i in range(ngram_range)]))"
   ]
  },
  {
   "cell_type": "code",
   "execution_count": 5,
   "id": "1afc3f77",
   "metadata": {},
   "outputs": [
    {
     "data": {
      "text/plain": [
       "{(1, 3), (1, 5), (2, 1), (3, 2), (5, 3)}"
      ]
     },
     "execution_count": 5,
     "metadata": {},
     "output_type": "execute_result"
    }
   ],
   "source": [
    "input_list = [1, 3, 2, 1, 5, 3]\n",
    "create_ngram_set(input_list)"
   ]
  },
  {
   "cell_type": "code",
   "execution_count": null,
   "id": "3dfffc7f",
   "metadata": {},
   "outputs": [],
   "source": []
  },
  {
   "cell_type": "markdown",
   "id": "dab6c06f",
   "metadata": {},
   "source": [
    "文本长度规范及其作用：\n",
    "- 一般模型的输入需要等尺寸大小的矩阵。此时将根据句子长度分析出覆盖绝大多数文本的合理长度（涵盖90%），对超长文本进行截断，对不足文本进行补齐（一般使用数字0）。"
   ]
  },
  {
   "cell_type": "code",
   "execution_count": 11,
   "id": "69671dcf",
   "metadata": {},
   "outputs": [],
   "source": [
    "from keras.preprocessing import sequence\n",
    "\n",
    "cutlen = 10\n",
    "\n",
    "def padding(x_train):\n",
    "    return sequence.pad_sequences(x_train, maxlen=cutlen, padding='post', truncating='post')"
   ]
  },
  {
   "cell_type": "code",
   "execution_count": 12,
   "id": "38f1f1d1",
   "metadata": {},
   "outputs": [
    {
     "data": {
      "text/plain": [
       "array([[ 1, 23,  5, 32, 55, 63,  2, 21, 78, 32],\n",
       "       [ 2, 32,  1, 23,  1,  0,  0,  0,  0,  0]])"
      ]
     },
     "execution_count": 12,
     "metadata": {},
     "output_type": "execute_result"
    }
   ],
   "source": [
    "x_train = [[1, 23, 5, 32, 55, 63, 2, 21, 78, 32, 23, 1],\n",
    "           [2, 32, 1, 23, 1]]\n",
    "\n",
    "padding(x_train)"
   ]
  },
  {
   "cell_type": "code",
   "execution_count": null,
   "id": "d0881e67",
   "metadata": {},
   "outputs": [],
   "source": []
  },
  {
   "cell_type": "code",
   "execution_count": null,
   "id": "c9648fef",
   "metadata": {},
   "outputs": [],
   "source": []
  },
  {
   "cell_type": "code",
   "execution_count": 13,
   "id": "99a3e8a2",
   "metadata": {},
   "outputs": [],
   "source": []
  },
  {
   "cell_type": "code",
   "execution_count": null,
   "id": "436f3f81",
   "metadata": {},
   "outputs": [],
   "source": []
  },
  {
   "cell_type": "code",
   "execution_count": null,
   "id": "37a44e7a",
   "metadata": {},
   "outputs": [],
   "source": []
  }
 ],
 "metadata": {
  "kernelspec": {
   "display_name": "Python 3 (ipykernel)",
   "language": "python",
   "name": "python3"
  },
  "language_info": {
   "codemirror_mode": {
    "name": "ipython",
    "version": 3
   },
   "file_extension": ".py",
   "mimetype": "text/x-python",
   "name": "python",
   "nbconvert_exporter": "python",
   "pygments_lexer": "ipython3",
   "version": "3.8.12"
  }
 },
 "nbformat": 4,
 "nbformat_minor": 5
}
