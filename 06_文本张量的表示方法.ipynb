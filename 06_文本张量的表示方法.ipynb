{
 "cells": [
  {
   "cell_type": "markdown",
   "id": "44757eb9",
   "metadata": {},
   "source": [
    "文本张量表示：\n",
    "- 将一段文本使用张量进行表示，其中一般将词汇表示成向量，称作词向量。再由各个词向量按顺序组成矩阵形成文本表示。\n",
    "- 作用：能够使语言文本作为计算机处理程序的输入，进行接下来一系列的解析工作。\n",
    "\n",
    "one-hot词向量表示：\n",
    "- 独热编码，将每个词表示成具有$n$个元素的向量，这个词向量中只有一个元素是1，其他元素都是0，不同词汇元素为0的位置不同，其中$n$的大小是整个语料中不同词汇的总数。\n",
    "- 优点：操作简单，容易理解\n",
    "- 劣势：完全割裂了词与词之间的联系。且在大语料集下，每个向量的长度过大，占据大量内存。"
   ]
  },
  {
   "cell_type": "code",
   "execution_count": 4,
   "id": "96aea0e4",
   "metadata": {},
   "outputs": [],
   "source": [
    "# from sklearn.externals import joblib 替换为\n",
    "import joblib"
   ]
  },
  {
   "cell_type": "code",
   "execution_count": 5,
   "id": "18dd2460",
   "metadata": {},
   "outputs": [],
   "source": [
    "from keras.preprocessing.text import Tokenizer"
   ]
  },
  {
   "cell_type": "code",
   "execution_count": 7,
   "id": "91401114",
   "metadata": {},
   "outputs": [
    {
     "name": "stdout",
     "output_type": "stream",
     "text": [
      "鹿晗 one-hot编码为： [1, 0, 0, 0, 0, 0]\n",
      "陈奕迅 one-hot编码为： [0, 1, 0, 0, 0, 0]\n",
      "吴亦凡 one-hot编码为： [0, 0, 1, 0, 0, 0]\n",
      "李宗盛 one-hot编码为： [0, 0, 0, 1, 0, 0]\n",
      "王力宏 one-hot编码为： [0, 0, 0, 0, 1, 0]\n",
      "周杰伦 one-hot编码为： [0, 0, 0, 0, 0, 1]\n"
     ]
    },
    {
     "data": {
      "text/plain": [
       "['./Tokenizer']"
      ]
     },
     "execution_count": 7,
     "metadata": {},
     "output_type": "execute_result"
    }
   ],
   "source": [
    "vocab = {'周杰伦', '陈奕迅', '王力宏', '李宗盛', '吴亦凡', '鹿晗'}\n",
    "\n",
    "t = Tokenizer(num_words=None,char_level=False)\n",
    "t.fit_on_texts(vocab)\n",
    "\n",
    "for token in vocab:\n",
    "    zero_list = [0] * len(vocab)\n",
    "    # 使用映射器转化现有文本数据，返回样式[[2]]\n",
    "    token_index = t.texts_to_sequences([token])[0][0] - 1\n",
    "    zero_list[token_index] = 1\n",
    "    print(token, \"one-hot编码为：\", zero_list)\n",
    "   \n",
    "# 保存映射器\n",
    "tokenizer_path = './Tokenizer'\n",
    "joblib.dump(t, tokenizer_path)"
   ]
  },
  {
   "cell_type": "code",
   "execution_count": null,
   "id": "d1967374",
   "metadata": {},
   "outputs": [],
   "source": []
  },
  {
   "cell_type": "code",
   "execution_count": 11,
   "id": "dd8d532b",
   "metadata": {},
   "outputs": [],
   "source": [
    "# 加载保存的映射器\n",
    "t = joblib.load(tokenizer_path)"
   ]
  },
  {
   "cell_type": "code",
   "execution_count": 12,
   "id": "35e67445",
   "metadata": {},
   "outputs": [
    {
     "name": "stdout",
     "output_type": "stream",
     "text": [
      "李宗盛 one-hot编码为： [0, 0, 0, 1, 0, 0]\n"
     ]
    }
   ],
   "source": [
    "token = '李宗盛'\n",
    "token_index = t.texts_to_sequences([token])[0][0] - 1\n",
    "zero_list = [0] * len(vocab)\n",
    "zero_list[token_index] = 1\n",
    "print(token, \"one-hot编码为：\", zero_list)"
   ]
  },
  {
   "cell_type": "code",
   "execution_count": null,
   "id": "47b8535e",
   "metadata": {},
   "outputs": [],
   "source": []
  },
  {
   "cell_type": "code",
   "execution_count": null,
   "id": "b96a264b",
   "metadata": {},
   "outputs": [],
   "source": []
  },
  {
   "cell_type": "markdown",
   "id": "360eaac1",
   "metadata": {},
   "source": [
    "word2vec：\n",
    "- 将词汇表示成向量的无监督训练方法，包含CBOW和skipgram两种训练模式。\n",
    "\n",
    "CBOW（Continuous bag of words）模式：\n",
    "- 给定一段用于训练的文本语料，再选定某段长度（窗口）作为研究对象，使用上下文词汇预测目标词汇。\n",
    "- 如窗口大小为9，使用前后4个词汇对目标词汇进行预测。\n",
    "\n",
    "skipgram模式：\n",
    "- 选定某段窗口作为研究对象，使用目标词汇预测上下文词汇。\n",
    "\n",
    "\n",
    "\n",
    "使用fasttext工具实现word2vec的训练和使用：\n",
    "- 获取训练数据\n",
    "- 训练词向量\n",
    "- 模型超参数设定\n",
    "- 模型效果检验\n",
    "- 模型的保存与重加载"
   ]
  },
  {
   "cell_type": "markdown",
   "id": "9adaff73",
   "metadata": {},
   "source": [
    "- http://www.mattmahoney.net/dc/enwik9.zip 数据"
   ]
  },
  {
   "cell_type": "code",
   "execution_count": null,
   "id": "5ecc3408",
   "metadata": {},
   "outputs": [],
   "source": []
  },
  {
   "cell_type": "markdown",
   "id": "2c6efa39",
   "metadata": {},
   "source": [
    "perl wikifil.pl data/enwik9 > data/fil9\n",
    "\n",
    "head -c 80 data/fil9"
   ]
  },
  {
   "cell_type": "code",
   "execution_count": 1,
   "id": "0c6835d8",
   "metadata": {},
   "outputs": [],
   "source": [
    "import fasttext"
   ]
  },
  {
   "cell_type": "code",
   "execution_count": 2,
   "id": "e193f36e",
   "metadata": {},
   "outputs": [],
   "source": [
    "# 使用无监督训练方法进行词向量的训练\n",
    "model = fasttext.train_unsupervised('data/WutheringHeights.txt', model='skipgram')\n",
    "# model = fasttext.train_unsupervised('./data/fil9.txt', model='skipgram', dim=300, epoch=1, lr=0.1, thread=8)"
   ]
  },
  {
   "cell_type": "code",
   "execution_count": 7,
   "id": "269baedc",
   "metadata": {
    "scrolled": true
   },
   "outputs": [
    {
     "data": {
      "text/plain": [
       "array([-0.02344137,  0.05361558, -0.03799271,  0.03629256, -0.03852846,\n",
       "        0.25951955,  0.02942149, -0.1479783 ,  0.13530746,  0.00449662,\n",
       "       -0.00403729,  0.10772362, -0.13828377,  0.00563046, -0.03574153,\n",
       "       -0.14859238, -0.04394291, -0.1392908 , -0.04615721,  0.10498832,\n",
       "        0.2888667 ,  0.3572071 , -0.05442623, -0.01993471,  0.09003352,\n",
       "        0.22741356,  0.01993065, -0.06570473, -0.2111397 , -0.10435101,\n",
       "        0.00988963, -0.05863618, -0.00388045,  0.14565462, -0.42046502,\n",
       "        0.15249185, -0.03636006,  0.31842825,  0.17958552,  0.26985833,\n",
       "        0.01489444,  0.0682444 , -0.12343358,  0.01709484,  0.1945873 ,\n",
       "       -0.27542168,  0.04431907,  0.05998012, -0.01459279, -0.19819492,\n",
       "       -0.16854905,  0.0511236 , -0.11347513, -0.0280004 ,  0.02549928,\n",
       "        0.09817851, -0.16742094, -0.05544618,  0.14811103, -0.10091434,\n",
       "        0.17067082, -0.11870677,  0.16837458, -0.00892791, -0.03642026,\n",
       "       -0.02412478, -0.06913874, -0.03687835, -0.11603368, -0.26935032,\n",
       "       -0.29518113,  0.19432756,  0.19151549, -0.07673533, -0.02240206,\n",
       "       -0.09744643,  0.19786504,  0.0328412 , -0.11569967,  0.02386182,\n",
       "       -0.11985787,  0.24303451, -0.03323755,  0.11804868, -0.03489356,\n",
       "       -0.03404924,  0.13985795, -0.14952081, -0.24094838,  0.32855684,\n",
       "       -0.20477463, -0.39273077,  0.13354504,  0.19365175,  0.03734994,\n",
       "       -0.00384643, -0.1056614 ,  0.01981687, -0.16676687, -0.19027235],\n",
       "      dtype=float32)"
      ]
     },
     "execution_count": 7,
     "metadata": {},
     "output_type": "execute_result"
    }
   ],
   "source": [
    "# 获得指定词汇的词向量\n",
    "model.get_word_vector('the')"
   ]
  },
  {
   "cell_type": "code",
   "execution_count": null,
   "id": "19ff8eb9",
   "metadata": {},
   "outputs": [],
   "source": []
  },
  {
   "cell_type": "code",
   "execution_count": null,
   "id": "2acee24c",
   "metadata": {},
   "outputs": [],
   "source": []
  },
  {
   "cell_type": "code",
   "execution_count": 11,
   "id": "90e1be5f",
   "metadata": {},
   "outputs": [],
   "source": [
    "# 无监督训练模式：默认为'skipgram'，或者'cbow'\n",
    "# 词嵌入维度dim：默认为100，但随着语料库的增大，词嵌入的维度往往也要更大\n",
    "# 数据循环次数epoch：默认为5\n",
    "# 学习率lr：默认为0.05，建议选择[0.01, 1]范围内\n",
    "# 使用的线程数thread：默认为12个线程，一般建议和cpu核数相同\n",
    "model = fasttext.train_unsupervised('./data/fil9.txt', model='cbow', dim=300, epoch=1, lr=0.1, thread=8)\n",
    "\n",
    "# 训练的词数量有问题"
   ]
  },
  {
   "cell_type": "code",
   "execution_count": null,
   "id": "bec071b3",
   "metadata": {},
   "outputs": [],
   "source": []
  },
  {
   "cell_type": "markdown",
   "id": "769bfc0a",
   "metadata": {},
   "source": [
    "检查单词向量质量的一种简单方法就是查看其邻近单词，通过主观来判断这些邻近单词是否与目标单词相关来粗略评定模型效果的好坏\n"
   ]
  },
  {
   "cell_type": "code",
   "execution_count": 3,
   "id": "daac7789",
   "metadata": {},
   "outputs": [
    {
     "data": {
      "text/plain": [
       "[(0.9995617270469666, 'anything,'),\n",
       " (0.9995493292808533, 'amuse'),\n",
       " (0.9995458126068115, 'nothing,'),\n",
       " (0.9995400309562683, 'cannot'),\n",
       " (0.9995284080505371, \"me.'\"),\n",
       " (0.9995243549346924, 'home,'),\n",
       " (0.9995202422142029, 'creature'),\n",
       " (0.9995143413543701, 'excuse'),\n",
       " (0.9995019435882568, 'sorry'),\n",
       " (0.999500036239624, \"it!'\")]"
      ]
     },
     "execution_count": 3,
     "metadata": {},
     "output_type": "execute_result"
    }
   ],
   "source": [
    "# 查看'sports'的邻近单词\n",
    "model.get_nearest_neighbors('music')"
   ]
  },
  {
   "cell_type": "code",
   "execution_count": null,
   "id": "8fcf4765",
   "metadata": {},
   "outputs": [],
   "source": []
  },
  {
   "cell_type": "code",
   "execution_count": null,
   "id": "32b91831",
   "metadata": {},
   "outputs": [],
   "source": []
  },
  {
   "cell_type": "code",
   "execution_count": 3,
   "id": "4b7396bd",
   "metadata": {},
   "outputs": [
    {
     "name": "stdout",
     "output_type": "stream",
     "text": [
      " anarchism originated as a term of abuse first used against early working class \n"
     ]
    }
   ],
   "source": [
    "f = open('./data/fil9.txt', 'r', encoding='utf-16')\n",
    "print(f.read(80))"
   ]
  },
  {
   "cell_type": "code",
   "execution_count": null,
   "id": "5cdc92fa",
   "metadata": {},
   "outputs": [],
   "source": []
  },
  {
   "cell_type": "code",
   "execution_count": null,
   "id": "c1c94524",
   "metadata": {},
   "outputs": [],
   "source": []
  },
  {
   "cell_type": "code",
   "execution_count": 4,
   "id": "e6a22c91",
   "metadata": {},
   "outputs": [],
   "source": [
    "model.save_model('fil9.bin')"
   ]
  },
  {
   "cell_type": "code",
   "execution_count": 5,
   "id": "d9da5c5b",
   "metadata": {},
   "outputs": [
    {
     "name": "stderr",
     "output_type": "stream",
     "text": [
      "Warning : `load_model` does not return WordVectorModel or SupervisedModel any more, but a `FastText` object which is very similar.\n"
     ]
    }
   ],
   "source": [
    "model = fasttext.load_model('fil9.bin')"
   ]
  },
  {
   "cell_type": "code",
   "execution_count": 6,
   "id": "2534df64",
   "metadata": {
    "scrolled": true
   },
   "outputs": [
    {
     "data": {
      "text/plain": [
       "array([-4.63873893e-02,  6.95816875e-02, -5.18368818e-02,  5.52614853e-02,\n",
       "       -6.63495958e-02,  2.60103375e-01,  2.88014021e-02, -1.35873348e-01,\n",
       "        1.21366061e-01,  1.84253678e-02, -2.13505644e-02,  1.10273302e-01,\n",
       "       -1.67804420e-01,  5.33773098e-03, -3.13052498e-02, -1.63602635e-01,\n",
       "       -3.71532030e-02, -1.15687028e-01, -4.87629399e-02,  1.35450810e-01,\n",
       "        2.85685867e-01,  3.95034045e-01, -4.71343957e-02, -3.66585366e-02,\n",
       "        6.52566850e-02,  1.86495647e-01,  2.44210474e-03, -7.00538903e-02,\n",
       "       -2.13160127e-01, -1.28166139e-01, -4.73677414e-04, -8.64003375e-02,\n",
       "       -5.19052660e-03,  1.28203973e-01, -4.11855578e-01,  1.63670182e-01,\n",
       "       -2.18197070e-02,  3.24532032e-01,  1.28520995e-01,  2.51120090e-01,\n",
       "       -3.09819647e-04,  4.29519340e-02, -1.59247592e-01,  2.84081753e-02,\n",
       "        1.66341379e-01, -2.51592815e-01,  4.07395475e-02,  6.46741539e-02,\n",
       "       -2.66525112e-02, -1.69886410e-01, -1.04285292e-01,  8.37027840e-03,\n",
       "       -1.00598529e-01, -7.21746013e-02,  2.57642400e-02,  1.14315517e-01,\n",
       "       -1.67006031e-01, -4.12120372e-02,  1.29065007e-01, -4.02410440e-02,\n",
       "        1.36172593e-01, -1.38275668e-01,  1.36338890e-01, -2.65060235e-02,\n",
       "       -4.65082452e-02, -1.71723124e-02, -8.69624242e-02,  1.33915595e-03,\n",
       "       -1.03391416e-01, -2.43351012e-01, -2.78098643e-01,  2.09614113e-01,\n",
       "        2.12069064e-01, -3.71555537e-02, -5.37429079e-02, -6.79971501e-02,\n",
       "        2.31569767e-01,  7.42159858e-02, -1.07253514e-01,  3.94631699e-02,\n",
       "       -1.05183817e-01,  1.94729775e-01, -6.68923333e-02,  1.66332841e-01,\n",
       "       -2.30455920e-02, -1.05657363e-02,  1.33992404e-01, -1.51743352e-01,\n",
       "       -2.71873116e-01,  3.42017293e-01, -2.16037899e-01, -4.12116140e-01,\n",
       "        1.76837936e-01,  1.96680367e-01,  3.86711024e-02,  2.18773447e-02,\n",
       "       -1.61088064e-01, -2.74157021e-02, -1.72719195e-01, -1.64544821e-01],\n",
       "      dtype=float32)"
      ]
     },
     "execution_count": 6,
     "metadata": {},
     "output_type": "execute_result"
    }
   ],
   "source": [
    "model.get_word_vector('the')"
   ]
  },
  {
   "cell_type": "code",
   "execution_count": null,
   "id": "e897aafe",
   "metadata": {},
   "outputs": [],
   "source": []
  },
  {
   "cell_type": "code",
   "execution_count": null,
   "id": "a962e6a6",
   "metadata": {},
   "outputs": [],
   "source": []
  },
  {
   "cell_type": "markdown",
   "id": "b26bc462",
   "metadata": {},
   "source": [
    "word embedding（词嵌入）：\n",
    "- 广义的word embedding包括所有密集词汇向量的表示方法，如word2vec\n",
    "- 狭义的word embedding指在神经网络中加入的embedding层，对整个网络进行训练的同时产生的embedding矩阵。"
   ]
  },
  {
   "cell_type": "code",
   "execution_count": 1,
   "id": "cb0862a7",
   "metadata": {},
   "outputs": [],
   "source": [
    "import fileinput\n",
    "import torch \n",
    "import json \n",
    "from torch.utils.tensorboard import SummaryWriter"
   ]
  },
  {
   "cell_type": "code",
   "execution_count": 2,
   "id": "16419382",
   "metadata": {},
   "outputs": [],
   "source": [
    "import pandas as pd\n",
    "\n",
    "df = pd.read_csv('./data/vocab100.csv', header=None)"
   ]
  },
  {
   "cell_type": "code",
   "execution_count": 3,
   "id": "96b5d6d9",
   "metadata": {},
   "outputs": [],
   "source": [
    "df['word'] = df[0].apply(lambda x: x.strip())"
   ]
  },
  {
   "cell_type": "code",
   "execution_count": 4,
   "id": "118ace1a",
   "metadata": {
    "scrolled": true
   },
   "outputs": [],
   "source": [
    "# 防止gfile包冲突\n",
    "import tensorflow as tf\n",
    "import tensorboard as tb\n",
    "tf.io.gfile = tb.compat.tensorflow_stub.io.gfile\n",
    "\n",
    "meta = df['word'].tolist()\n",
    "\n",
    "writer = SummaryWriter()\n",
    "# 代表100个词汇，每个词汇被表示成50维的向量\n",
    "embedded = torch.randn(100, 50)\n",
    "writer.add_embedding(embedded, metadata=meta)\n",
    "writer.close()"
   ]
  },
  {
   "cell_type": "code",
   "execution_count": null,
   "id": "5b6e5892",
   "metadata": {},
   "outputs": [],
   "source": [
    "# tensorboard --logdir runs --host 0.0.0.0 \n",
    "# http://localhost:6006/#projector"
   ]
  },
  {
   "cell_type": "code",
   "execution_count": null,
   "id": "7bd21f3f",
   "metadata": {},
   "outputs": [],
   "source": []
  },
  {
   "cell_type": "code",
   "execution_count": null,
   "id": "63bda576",
   "metadata": {},
   "outputs": [],
   "source": []
  },
  {
   "cell_type": "code",
   "execution_count": null,
   "id": "3a630c1f",
   "metadata": {},
   "outputs": [],
   "source": []
  },
  {
   "cell_type": "code",
   "execution_count": null,
   "id": "af40747c",
   "metadata": {},
   "outputs": [],
   "source": []
  },
  {
   "cell_type": "code",
   "execution_count": null,
   "id": "0f9a06b1",
   "metadata": {},
   "outputs": [],
   "source": []
  },
  {
   "cell_type": "code",
   "execution_count": null,
   "id": "33d790df",
   "metadata": {},
   "outputs": [],
   "source": []
  },
  {
   "cell_type": "code",
   "execution_count": null,
   "id": "63a7a5a1",
   "metadata": {},
   "outputs": [],
   "source": []
  },
  {
   "cell_type": "code",
   "execution_count": null,
   "id": "e1accd5c",
   "metadata": {},
   "outputs": [],
   "source": []
  },
  {
   "cell_type": "code",
   "execution_count": null,
   "id": "94402ad3",
   "metadata": {},
   "outputs": [],
   "source": []
  },
  {
   "cell_type": "code",
   "execution_count": null,
   "id": "aa369d5f",
   "metadata": {},
   "outputs": [],
   "source": []
  },
  {
   "cell_type": "code",
   "execution_count": null,
   "id": "02cab01d",
   "metadata": {},
   "outputs": [],
   "source": []
  }
 ],
 "metadata": {
  "kernelspec": {
   "display_name": "Python 3 (ipykernel)",
   "language": "python",
   "name": "python3"
  },
  "language_info": {
   "codemirror_mode": {
    "name": "ipython",
    "version": 3
   },
   "file_extension": ".py",
   "mimetype": "text/x-python",
   "name": "python",
   "nbconvert_exporter": "python",
   "pygments_lexer": "ipython3",
   "version": "3.8.12"
  }
 },
 "nbformat": 4,
 "nbformat_minor": 5
}
